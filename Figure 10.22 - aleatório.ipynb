{
 "cells": [
  {
   "cell_type": "code",
   "execution_count": 101,
   "metadata": {},
   "outputs": [],
   "source": [
    "# Author: Jake VanderPlas\n",
    "# License: BSD\n",
    "#   The figure produced by this code is published in the textbook\n",
    "#   \"Statistics, Data Mining, and Machine Learning in Astronomy\" (2013)\n",
    "#   For more information, see http://astroML.github.com\n",
    "#   To report a bug or issue, use the following forum:\n",
    "#    https://groups.google.com/forum/#!forum/astroml-general\n",
    "from __future__ import print_function\n",
    "\n",
    "import numpy as np\n",
    "from matplotlib import pyplot as plt\n",
    "from astroML.classification import GMMBayes\n",
    "from sklearn.model_selection import train_test_split\n",
    "from astroML.datasets import fetch_LINEAR_geneva\n",
    "import random\n"
   ]
  },
  {
   "cell_type": "code",
   "execution_count": 102,
   "metadata": {},
   "outputs": [],
   "source": [
    "\n",
    "#----------------------------------------------------------------------\n",
    "# This function adjusts matplotlib settings for a uniform feel in the textbook.\n",
    "# Note that with usetex=True, fonts are rendered with LaTeX.  This may\n",
    "# result in an error if LaTeX is not installed on your system.  In that case,\n",
    "# you can set usetex to False.\n",
    "# if \"setup_text_plots\" not in globals():\n",
    "#     from astroML.plotting import setup_text_plots\n",
    "# setup_text_plots(fontsize=8, usetex=True)\n",
    "\n",
    "data = fetch_LINEAR_geneva()"
   ]
  },
  {
   "cell_type": "code",
   "execution_count": 103,
   "metadata": {},
   "outputs": [
    {
     "data": {
      "text/plain": [
       "array([(119.526443,  46.96212 , 1.166, 0.369, 1.018, 0.269, -0.2541378, 0.619, -0.313, -0.567, 16.37, 301., 1, b'29848'),\n",
       "       (119.324013,  47.095505, 1.356, 0.521, 1.167, 0.311, -0.2446909, 0.709, -0.493, -0.997, 15.02, 289., 1, b'32086'),\n",
       "       (118.503448,  49.686569, 1.166, 0.138, 1.154, 0.384, -0.6093863, 0.601, -0.052, -0.447, 16.14, 245., 1, b'43542'),\n",
       "       ...,\n",
       "       (168.818787,  12.683557, 1.63 , 0.874, 1.687, 0.606, -0.1173616, 0.462,  2.539,  5.885, 14.99, 528., 4, b'24215207'),\n",
       "       (169.745926, -14.120813, 1.402, 0.887, 1.923, 0.5  , -0.5277717, 0.734,  1.139,  0.511, 16.83, 104., 5, b'24264418'),\n",
       "       (168.388199, -14.626495, 1.124, 0.568, 0.899, 0.546, -0.468387 , 0.883,  1.052,  0.618, 16.97,  95., 5, b'24265735')],\n",
       "      dtype=[('RA', '<f8'), ('Dec', '<f8'), ('ug', '<f8'), ('gi', '<f8'), ('iK', '<f8'), ('JK', '<f8'), ('logP', '<f8'), ('amp', '<f8'), ('skew', '<f8'), ('kurt', '<f8'), ('magMed', '<f8'), ('nObs', '<f8'), ('LCtype', '<i4'), ('LINEARobjectID', 'S20')])"
      ]
     },
     "execution_count": 103,
     "metadata": {},
     "output_type": "execute_result"
    }
   ],
   "source": [
    "data"
   ]
  },
  {
   "cell_type": "code",
   "execution_count": 104,
   "metadata": {
    "scrolled": true
   },
   "outputs": [
    {
     "data": {
      "text/plain": [
       "dtype([('RA', '<f8'), ('Dec', '<f8'), ('ug', '<f8'), ('gi', '<f8'), ('iK', '<f8'), ('JK', '<f8'), ('logP', '<f8'), ('amp', '<f8'), ('skew', '<f8'), ('kurt', '<f8'), ('magMed', '<f8'), ('nObs', '<f8'), ('LCtype', '<i4'), ('LINEARobjectID', 'S20')])"
      ]
     },
     "execution_count": 104,
     "metadata": {},
     "output_type": "execute_result"
    }
   ],
   "source": [
    "data.dtype"
   ]
  },
  {
   "cell_type": "code",
   "execution_count": 105,
   "metadata": {},
   "outputs": [],
   "source": [
    "dt = data.dtype"
   ]
  },
  {
   "cell_type": "code",
   "execution_count": 106,
   "metadata": {
    "scrolled": true
   },
   "outputs": [
    {
     "data": {
      "text/plain": [
       "array([(0.28938111,), (0.25544856,), (0.18309462,), ..., (0.38358319,),\n",
       "       (0.98408616,), (0.31885265,)], dtype=[('RA', '<f8')])"
      ]
     },
     "execution_count": 106,
     "metadata": {},
     "output_type": "execute_result"
    }
   ],
   "source": [
    "atribute_1 = []\n",
    "atribute_1 = np.random.rand(len(data)).astype([('RA', '<f8')])\n",
    "atribute_1"
   ]
  },
  {
   "cell_type": "code",
   "execution_count": 107,
   "metadata": {},
   "outputs": [
    {
     "data": {
      "text/plain": [
       "array([(0.36174318,), (0.61481785,), (0.83999763,), ..., (0.44560632,),\n",
       "       (0.58909903,), (0.89643881,)], dtype=[('logP', '<f8')])"
      ]
     },
     "execution_count": 107,
     "metadata": {},
     "output_type": "execute_result"
    }
   ],
   "source": [
    "atribute_6 = []\n",
    "atribute_6 = np.random.rand(len(data)).astype([('logP', '<f8')])\n",
    "atribute_6"
   ]
  },
  {
   "cell_type": "code",
   "execution_count": 108,
   "metadata": {},
   "outputs": [],
   "source": [
    "for i in range(len(data)):\n",
    "    data[i][0]=atribute_1[i][0]\n",
    "\n",
    "for i in range(len(data)):\n",
    "    data[i][6]=atribute_6[i][0]\n"
   ]
  },
  {
   "cell_type": "code",
   "execution_count": 109,
   "metadata": {},
   "outputs": [
    {
     "data": {
      "text/plain": [
       "array([(0.28938111,  46.96212 , 1.166, 0.369, 1.018, 0.269, 0.36174318, 0.619, -0.313, -0.567, 16.37, 301., 1, b'29848'),\n",
       "       (0.25544856,  47.095505, 1.356, 0.521, 1.167, 0.311, 0.61481785, 0.709, -0.493, -0.997, 15.02, 289., 1, b'32086'),\n",
       "       (0.18309462,  49.686569, 1.166, 0.138, 1.154, 0.384, 0.83999763, 0.601, -0.052, -0.447, 16.14, 245., 1, b'43542'),\n",
       "       ...,\n",
       "       (0.38358319,  12.683557, 1.63 , 0.874, 1.687, 0.606, 0.44560632, 0.462,  2.539,  5.885, 14.99, 528., 4, b'24215207'),\n",
       "       (0.98408616, -14.120813, 1.402, 0.887, 1.923, 0.5  , 0.58909903, 0.734,  1.139,  0.511, 16.83, 104., 5, b'24264418'),\n",
       "       (0.31885265, -14.626495, 1.124, 0.568, 0.899, 0.546, 0.89643881, 0.883,  1.052,  0.618, 16.97,  95., 5, b'24265735')],\n",
       "      dtype=[('RA', '<f8'), ('Dec', '<f8'), ('ug', '<f8'), ('gi', '<f8'), ('iK', '<f8'), ('JK', '<f8'), ('logP', '<f8'), ('amp', '<f8'), ('skew', '<f8'), ('kurt', '<f8'), ('magMed', '<f8'), ('nObs', '<f8'), ('LCtype', '<i4'), ('LINEARobjectID', 'S20')])"
      ]
     },
     "execution_count": 109,
     "metadata": {},
     "output_type": "execute_result"
    }
   ],
   "source": [
    "data"
   ]
  },
  {
   "cell_type": "code",
   "execution_count": 110,
   "metadata": {},
   "outputs": [],
   "source": [
    "attributes = [('gi', 'logP'),\n",
    "              ('gi', 'logP', 'ug', 'iK', 'JK', 'amp', 'skew')]\n",
    "labels = ['$u-g$', '$g-i$', '$i-K$', '$J-K$',\n",
    "          r'$\\log(P)$', 'amplitude', 'skew']\n",
    "cls = 'LCtype'\n",
    "Ntrain = 3000"
   ]
  },
  {
   "cell_type": "code",
   "execution_count": 117,
   "metadata": {},
   "outputs": [],
   "source": [
    "#------------------------------------------------------------\n",
    "# Create attribute arrays\n",
    "X = []\n",
    "y = []\n",
    "\n",
    "for attr in attributes:\n",
    "    X.append(np.vstack([data[a] for a in attr]).T)\n",
    "    LCtype = data[cls].copy()\n",
    "\n",
    "    # there is no #3.  For a better color scheme in plots,\n",
    "    # we'll set 6->3\n",
    "    LCtype[LCtype == 6] = 3\n",
    "    y.append(LCtype)\n",
    "\n",
    "\n"
   ]
  },
  {
   "cell_type": "code",
   "execution_count": 118,
   "metadata": {},
   "outputs": [],
   "source": [
    "#@pickle_results('LINEAR_GMMBayes.pkl')\n",
    "def compute_SVM_results(i_train, i_test, n_components=5):\n",
    "    classifiers = []\n",
    "    predictions = []\n",
    "    Xtests = []\n",
    "    ytests = []\n",
    "    Xtrains = []\n",
    "    ytrains = []\n",
    "\n",
    "    for i in range(len(attributes)):\n",
    "        Xtrain = X[i][i_train]\n",
    "        Xtest = X[i][i_test]\n",
    "        ytrain = y[i][i_train]\n",
    "        ytest = y[i][i_test]\n",
    "\n",
    "        clf = GMMBayes(n_components, tol=1E-5, covariance_type='full',\n",
    "                       random_state=0)\n",
    "        clf.fit(Xtrain, ytrain)\n",
    "        y_pred = clf.predict(Xtest)\n",
    "\n",
    "        classifiers.append(clf)\n",
    "        predictions.append(y_pred)\n",
    "\n",
    "    return classifiers, predictions"
   ]
  },
  {
   "cell_type": "code",
   "execution_count": 119,
   "metadata": {},
   "outputs": [
    {
     "name": "stderr",
     "output_type": "stream",
     "text": [
      "C:\\Users\\Camila\\Anaconda3\\envs\\pdi\\lib\\site-packages\\sklearn\\mixture\\base.py:265: ConvergenceWarning: Initialization 1 did not converge. Try different init parameters, or increase max_iter, tol or check for degenerate data.\n",
      "  % (init + 1), ConvergenceWarning)\n",
      "C:\\Users\\Camila\\Anaconda3\\envs\\pdi\\lib\\site-packages\\sklearn\\mixture\\base.py:265: ConvergenceWarning: Initialization 1 did not converge. Try different init parameters, or increase max_iter, tol or check for degenerate data.\n",
      "  % (init + 1), ConvergenceWarning)\n"
     ]
    }
   ],
   "source": [
    "i = np.arange(len(data))\n",
    "i_train, i_test = train_test_split(i, random_state=0, train_size=2000)\n",
    "clfs, ypred = compute_SVM_results(i_train, i_test)"
   ]
  },
  {
   "cell_type": "code",
   "execution_count": 120,
   "metadata": {},
   "outputs": [
    {
     "data": {
      "image/png": "[encoded data removed]",
      "text/plain": [
       "<Figure size 360x360 with 4 Axes>"
      ]
     },
     "metadata": {
      "needs_background": "light"
     },
     "output_type": "display_data"
    }
   ],
   "source": [
    "#------------------------------------------------------------\n",
    "# Plot the results\n",
    "fig = plt.figure(figsize=(5, 5))\n",
    "fig.subplots_adjust(hspace=0.1, wspace=0.1)\n",
    "\n",
    "class_labels = []\n",
    "\n",
    "for i in range(2):\n",
    "    Xtest = X[i][i_test]\n",
    "    ytest = y[i][i_test]\n",
    "    amp = data['amp'][i_test]\n",
    "\n",
    "    # Plot the resulting classifications\n",
    "    ax1 = fig.add_subplot(221 + 2 * i)\n",
    "    ax1.scatter(Xtest[:, 0], Xtest[:, 1],\n",
    "                c=ypred[i], edgecolors='none', s=4, linewidths=0)\n",
    "\n",
    "    ax1.set_ylabel(r'$\\log(P)$')\n",
    "\n",
    "    ax2 = plt.subplot(222 + 2 * i)\n",
    "    ax2.scatter(amp, Xtest[:, 1],\n",
    "                c=ypred[i], edgecolors='none', s=4, lw=0)\n",
    "\n",
    "    #------------------------------\n",
    "    # set axis limits\n",
    "#     ax1.set_xlim(-0.6, 2.1)\n",
    "#     ax2.set_xlim(0.1, 1.5)\n",
    "#     ax1.set_ylim(-1.5, 0.5)\n",
    "#     ax2.set_ylim(-1.5, 0.5)\n",
    "\n",
    "    ax2.yaxis.set_major_formatter(plt.NullFormatter())\n",
    "    if i == 0:\n",
    "        ax1.xaxis.set_major_formatter(plt.NullFormatter())\n",
    "        ax2.xaxis.set_major_formatter(plt.NullFormatter())\n",
    "    else:\n",
    "        ax1.set_xlabel(r'$g-i$')\n",
    "        ax2.set_xlabel(r'$A$')\n",
    "\n"
   ]
  },
  {
   "cell_type": "code",
   "execution_count": null,
   "metadata": {},
   "outputs": [],
   "source": []
  },
  {
   "cell_type": "code",
   "execution_count": null,
   "metadata": {},
   "outputs": [],
   "source": [
    "#------------------------------------------------------------\n",
    "# Second figure\n",
    "fig = plt.figure(figsize=(5, 5))\n",
    "fig.subplots_adjust(left=0.11, right=0.95, wspace=0.3)\n",
    "\n",
    "attrs = ['skew', 'ug', 'iK', 'JK']\n",
    "labels = ['skew', '$u-g$', '$i-K$', '$J-K$']\n",
    "ylims = [(-1.8, 2.2), (0.6, 2.9), (0.1, 2.6), (-0.2, 1.2)]\n",
    "\n",
    "for i in range(4):\n",
    "    ax = fig.add_subplot(221 + i)\n",
    "    ax.scatter(data['gi'][i_test], data[attrs[i]][i_test],\n",
    "               c=ypred[1], edgecolors='none', s=4, lw=0)\n",
    "    ax.set_xlabel('$g-i$')\n",
    "    ax.set_ylabel(labels[i])\n",
    "\n",
    "    ax.set_xlim(-0.6, 2.1)\n",
    "    ax.set_ylim(ylims[i])\n",
    "\n",
    "#------------------------------------------------------------\n",
    "# Save the results\n",
    "#\n",
    "# run the script as\n",
    "#\n",
    "#   >$ python fig_LINEAR_clustering.py --save\n",
    "#\n",
    "# to output the data file showing the cluster labels of each point\n",
    "import sys\n",
    "if len(sys.argv) > 1 and sys.argv[1] == '--save':\n",
    "    filename = 'cluster_labels_gmm.dat'\n",
    "\n",
    "    print(\"Saving cluster labels to\", filename)\n",
    "\n",
    "    from astroML.datasets.LINEAR_sample import ARCHIVE_DTYPE\n",
    "    new_data = np.zeros(len(data),\n",
    "                        dtype=(ARCHIVE_DTYPE + [('2D_cluster_ID', 'i4'),\n",
    "                                                ('7D_cluster_ID', 'i4')]))\n",
    "\n",
    "    # switch the labels back 3->6\n",
    "    for i in range(2):\n",
    "        ypred[i][ypred[i] == 3] = 6\n",
    "\n",
    "    # need to put labels back in order\n",
    "    class_labels = [-999 * np.ones(len(data)) for i in range(2)]\n",
    "    for i in range(2):\n",
    "        class_labels[i][i_test] = ypred[i]\n",
    "\n",
    "    for name in data.dtype.names:\n",
    "        new_data[name] = data[name]\n",
    "    new_data['2D_cluster_ID'] = class_labels[0]\n",
    "    new_data['7D_cluster_ID'] = class_labels[1]\n",
    "\n",
    "    fmt = ('%.6f   %.6f   %.3f   %.3f   %.3f   %.3f   %.7f   %.3f   %.3f   '\n",
    "           '%.3f    %.2f     %i     %i      %s          %i              %i\\n')\n",
    "\n",
    "\n",
    "    F = open(filename, 'w')\n",
    "    F.write('#    ra           dec       ug      gi      iK      JK     '\n",
    "            'logP       Ampl    skew      kurt    magMed    nObs  LCtype  '\n",
    "            'LINEARobjectID  2D_cluster_ID   7D_cluster_ID\\n')\n",
    "    for line in new_data:\n",
    "        F.write(fmt % tuple(line[col] for col in line.dtype.names))\n",
    "    F.close()\n"
   ]
  },
  {
   "cell_type": "code",
   "execution_count": null,
   "metadata": {},
   "outputs": [],
   "source": [
    "plt.show();"
   ]
  }
 ],
 "metadata": {
  "kernelspec": {
   "display_name": "Python [conda env:pdi] *",
   "language": "python",
   "name": "conda-env-pdi-py"
  },
  "language_info": {
   "codemirror_mode": {
    "name": "ipython",
    "version": 3
   },
   "file_extension": ".py",
   "mimetype": "text/x-python",
   "name": "python",
   "nbconvert_exporter": "python",
   "pygments_lexer": "ipython3",
   "version": "3.7.3"
  }
 },
 "nbformat": 4,
 "nbformat_minor": 2
}
